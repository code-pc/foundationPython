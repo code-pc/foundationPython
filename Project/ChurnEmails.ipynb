{
 "cells": [
  {
   "cell_type": "code",
   "execution_count": 1,
   "metadata": {},
   "outputs": [
    {
     "name": "stdout",
     "output_type": "stream",
     "text": [
      "1910\n"
     ]
    }
   ],
   "source": [
    "def number_of_lines():\n",
    "    fhand = open('/cxldata/datasets/project/mbox-short.txt')\n",
    "    inp = fhand.read()\n",
    "    fhand.close()\n",
    "    count=len(inp.splitlines())\n",
    "    return count\n",
    "print(number_of_lines())"
   ]
  },
  {
   "cell_type": "code",
   "execution_count": 7,
   "metadata": {},
   "outputs": [
    {
     "name": "stdout",
     "output_type": "stream",
     "text": [
      "27\n"
     ]
    }
   ],
   "source": [
    "def count_number_of_lines():\n",
    "    fhand = open('/cxldata/datasets/project/mbox-short.txt')\n",
    "    count = 0\n",
    "    for line in fhand:\n",
    "        line = line.rstrip() # Remove new line characters from right\n",
    "        if line.startswith('Subject:'):\n",
    "            count=count+1\n",
    "    return count\n",
    "print(count_number_of_lines())"
   ]
  },
  {
   "cell_type": "code",
   "execution_count": 10,
   "metadata": {},
   "outputs": [
    {
     "name": "stdout",
     "output_type": "stream",
     "text": [
      "0.7507185185185187\n"
     ]
    }
   ],
   "source": [
    "def average_spam_confidence():\n",
    "    fhand = open('/cxldata/datasets/project/mbox-short.txt')\n",
    "    count=0\n",
    "    conf=0\n",
    "    for line in fhand:\n",
    "        if line.rstrip().startswith(\"X-DSPAM-Confidence:\"):\n",
    "            count=count+1\n",
    "            conf=float(line.strip().split(\":\")[1])+conf\n",
    "    avg=conf/float(count)\n",
    "    return avg\n",
    "print(average_spam_confidence())"
   ]
  },
  {
   "cell_type": "code",
   "execution_count": 3,
   "metadata": {},
   "outputs": [
    {
     "name": "stdout",
     "output_type": "stream",
     "text": [
      "{'Sat': 1, 'Fri': 20, 'Thu': 6}\n"
     ]
    }
   ],
   "source": [
    "def find_email_sent_days():\n",
    "    fhand = open('/cxldata/datasets/project/mbox-short.txt')\n",
    "    a=fhand.readlines()\n",
    "    li=[]\n",
    "    d=dict()\n",
    "    for i in a:\n",
    "        if i.startswith(\"From\")and len(i)>40:\n",
    "            a=i.split(\" \")[2]\n",
    "            if d.get(a):\n",
    "                d[a]=d[a]+1\n",
    "            else:\n",
    "                d[a]=1\n",
    "    return d\n",
    "print(find_email_sent_days())        "
   ]
  },
  {
   "cell_type": "code",
   "execution_count": 8,
   "metadata": {},
   "outputs": [
    {
     "name": "stdout",
     "output_type": "stream",
     "text": [
      "{'stephen.marquard@uct.ac.za': 2, 'louis@media.berkeley.edu': 3, 'zqian@umich.edu': 4, 'rjlowe@iupui.edu': 2, 'cwen@iupui.edu': 5, 'gsilver@umich.edu': 3, 'wagnermr@iupui.edu': 1, 'antranig@caret.cam.ac.uk': 1, 'gopal.ramasammycook@gmail.com': 1, 'david.horwitz@uct.ac.za': 4, 'ray@media.berkeley.edu': 1}\n"
     ]
    }
   ],
   "source": [
    "def count_message_from_email():\n",
    "    fhand = open('/cxldata/datasets/project/mbox-short.txt')\n",
    "    a=fhand.readlines()\n",
    "    li=[]\n",
    "    d=dict()\n",
    "    for i in a:\n",
    "        if i.startswith(\"From\")and len(i)>40:\n",
    "            a=i.split(\" \")[1]\n",
    "            if d.get(a):\n",
    "                d[a]=d[a]+1\n",
    "            else:\n",
    "                d[a]=1\n",
    "    return d\n",
    "print(count_message_from_email())\n",
    "    "
   ]
  },
  {
   "cell_type": "code",
   "execution_count": 15,
   "metadata": {},
   "outputs": [
    {
     "name": "stdout",
     "output_type": "stream",
     "text": [
      "{'uct.ac.za': 6, 'media.berkeley.edu': 4, 'umich.edu': 7, 'iupui.edu': 8, 'caret.cam.ac.uk': 1, 'gmail.com': 1}\n"
     ]
    }
   ],
   "source": [
    "def count_message_from_domain():\n",
    "    fhand=open('/cxldata/datasets/project/mbox-short.txt')\n",
    "    a=fhand.readlines()\n",
    "    li=[]\n",
    "    d=dict()\n",
    "    for i in a:\n",
    "        if i.startswith(\"From\") and len(i)>40:\n",
    "            domain=i.split(' ')[1].split('@')[1]\n",
    "            d[domain]=d.get(domain,0)+1\n",
    "    return d\n",
    "print(count_message_from_domain())"
   ]
  },
  {
   "cell_type": "code",
   "execution_count": null,
   "metadata": {},
   "outputs": [],
   "source": []
  }
 ],
 "metadata": {
  "kernelspec": {
   "display_name": "Python 3",
   "language": "python",
   "name": "python3"
  },
  "language_info": {
   "codemirror_mode": {
    "name": "ipython",
    "version": 3
   },
   "file_extension": ".py",
   "mimetype": "text/x-python",
   "name": "python",
   "nbconvert_exporter": "python",
   "pygments_lexer": "ipython3",
   "version": "3.6.8"
  },
  "toc": {
   "base_numbering": 1,
   "nav_menu": {
    "height": "11.3333px",
    "width": "160px"
   },
   "number_sections": true,
   "sideBar": true,
   "skip_h1_title": false,
   "title_cell": "Table of Contents",
   "title_sidebar": "Contents",
   "toc_cell": false,
   "toc_position": {},
   "toc_section_display": true,
   "toc_window_display": false
  }
 },
 "nbformat": 4,
 "nbformat_minor": 2
}
